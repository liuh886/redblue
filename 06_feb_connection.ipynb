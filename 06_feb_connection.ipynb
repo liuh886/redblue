{
 "cells": [
  {
   "cell_type": "code",
   "execution_count": 3,
   "metadata": {},
   "outputs": [
    {
     "name": "stdout",
     "output_type": "stream",
     "text": [
      "Error connecting to the PostgreSQL database: syntax error at or near \"-\"\n",
      "LINE 1: SELECT * FROM trainset-localisation.icomera\n",
      "                              ^\n",
      "\n"
     ]
    }
   ],
   "source": [
    "import psycopg2\n",
    "\n",
    "# Database connection parameters\n",
    "db_params = {\n",
    "    'dbname': 'postgres',\n",
    "    'user': 'geolocadmin',\n",
    "    'password': 'CVWL5XC0egY(',\n",
    "    'host': 'eurostar-trainset-localisation-dev.postgres.database.azure.com',\n",
    "    'port': 5432,\n",
    "    'sslmode': 'require'  # Enable SSL for secure connections\n",
    "}\n",
    "\n",
    "try:\n",
    "    # Establish a connection to the database\n",
    "    connection = psycopg2.connect(**db_params)\n",
    "\n",
    "    # Create a cursor object to interact with the database\n",
    "    cursor = connection.cursor()\n",
    "\n",
    "    # Now, you can perform database operations using the cursor\n",
    "\n",
    "    # For example, to fetch data from the 'icomera' table:\n",
    "    cursor.execute(\"SELECT * FROM trainset-localisation.icomera\")\n",
    "    rows = cursor.fetchall()\n",
    "\n",
    "    for row in rows:\n",
    "        print(row)\n",
    "\n",
    "    # Close the cursor and connection when done\n",
    "    cursor.close()\n",
    "    connection.close()\n",
    "\n",
    "except psycopg2.Error as e:\n",
    "    print(\"Error connecting to the PostgreSQL database:\", e)\n"
   ]
  }
 ],
 "metadata": {
  "kernelspec": {
   "display_name": "xdem",
   "language": "python",
   "name": "python3"
  },
  "language_info": {
   "codemirror_mode": {
    "name": "ipython",
    "version": 3
   },
   "file_extension": ".py",
   "mimetype": "text/x-python",
   "name": "python",
   "nbconvert_exporter": "python",
   "pygments_lexer": "ipython3",
   "version": "3.11.7"
  }
 },
 "nbformat": 4,
 "nbformat_minor": 2
}
